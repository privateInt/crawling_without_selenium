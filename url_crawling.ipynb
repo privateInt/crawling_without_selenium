{
 "cells": [
  {
   "cell_type": "code",
   "execution_count": 1,
   "id": "55950792-9f77-4836-ab16-8f54883b9652",
   "metadata": {},
   "outputs": [],
   "source": [
    "# jpg = 손실 압축 방식을 사용합니다. 이미지를 압축할 때 데이터 손실이 발생하며, 압축률이 높기 때문에 파일 크기를 작게 만들 수 있습니다. 그러나 이미지가 압축되면서 일부 세부 정보가 손실될 수 있습니다. 따라서 고해상도 사진에 적합하며, 색상이 많고 복잡한 이미지에 유리합니다.\n",
    "# png = 무손실 압축 방식을 사용합니다. 이미지를 압축하는 동안 데이터 손실이 없으므로 원본 이미지를 완벽하게 보존합니다. 그러나 무손실 압축은 파일 크기가 상대적으로 크게 만들 수 있습니다. PNG는 그림, 아이콘, 투명한 배경이 필요한 이미지 등에 적합합니다.\n",
    "\n",
    "# jpg = 파일 크기 작음, 압축 손실 발생\n",
    "# png = 퍼알 크기 큼, 압축 손실 발생하지 않음\n",
    "\n",
    "# vision 학습시 이미지 확장자가 jpg, png 중 무엇인지는 크게 영향이 없음"
   ]
  },
  {
   "cell_type": "code",
   "execution_count": null,
   "id": "056d0d43-54ae-4337-b85e-cedb3f7691f9",
   "metadata": {},
   "outputs": [],
   "source": [
    "# beautifulsoup 기본 명령어로 검색하면 원하는 기능 만들기 가능"
   ]
  },
  {
   "cell_type": "code",
   "execution_count": 2,
   "id": "d4348bf8-add5-40c0-99af-64118ff12356",
   "metadata": {},
   "outputs": [],
   "source": [
    "#크롤링시 필요한 라이브러리 불러오기\n",
    "from bs4 import BeautifulSoup\n",
    "import requests\n",
    "import re\n",
    "import datetime\n",
    "from tqdm import tqdm\n",
    "import sys\n",
    "import os\n",
    "import urllib.request as req\n",
    "from PIL import Image\n",
    "from glob import glob\n",
    "import shutil\n",
    "import pickle"
   ]
  },
  {
   "cell_type": "code",
   "execution_count": 3,
   "id": "350d5074-7c4c-4516-aa5d-56004702e507",
   "metadata": {},
   "outputs": [],
   "source": [
    "target = \"dia2\""
   ]
  },
  {
   "cell_type": "code",
   "execution_count": 4,
   "id": "7cac5930-b8a7-445f-b67e-a2b7a4b9fbef",
   "metadata": {},
   "outputs": [],
   "source": [
    "# 크롤링할 홈페이지 주소와 게시판 마지막 번호\n",
    "\n",
    "if target == \"dia4\":\n",
    "    project_name = target\n",
    "    base_url = \"https://www.inven.co.kr/board/diablo4/6028\"\n",
    "    end_page_num = 162\n",
    "    \n",
    "elif target == \"dia2\":\n",
    "    project_name = target\n",
    "    base_url = \"https://www.inven.co.kr/board/diablo2/5743\"\n",
    "    end_page_num = 1000"
   ]
  },
  {
   "cell_type": "code",
   "execution_count": 5,
   "id": "17a71884-50e4-43ee-84f7-b689e4d42769",
   "metadata": {},
   "outputs": [
    {
     "name": "stderr",
     "output_type": "stream",
     "text": [
      "100%|██████████| 1000/1000 [05:05<00:00,  3.27it/s]\n"
     ]
    }
   ],
   "source": [
    "# 게시판 페이지마다 내부 게시글 주소 다 가져오기\n",
    "\n",
    "notice_board_lst = []\n",
    "\n",
    "page_range = [i+1 for i in range(0,end_page_num)]\n",
    "\n",
    "for page_num in tqdm(page_range):\n",
    "    target_url = base_url + f\"?p={page_num}\"\n",
    "    \n",
    "    response = requests.get(target_url) # url 정보 가져오기\n",
    "    html_data = response.text # url 정보중 text만 추출\n",
    "\n",
    "    soup = BeautifulSoup(html_data, 'html.parser') # html.parser로 나누기\n",
    "\n",
    "    tags_with_classes = soup.find_all(\"a\", class_ = 'subject-link') # html.parser에서 \"a\" 태그와 \"subject_ling\" 클래스에 있는 내용만 가져오기\n",
    "\n",
    "    for tags_with_class in tags_with_classes: # tags_with_classes 에서 href 주소만 추출해서 list에 저장하기\n",
    "        href_value = tags_with_class['href']\n",
    "        notice_board_lst.append(href_value)\n",
    "        \n",
    "with open(f\"{project_name}_board_url_lst.pickle\", \"wb\")as f:\n",
    "    pickle.dump(notice_board_lst, f)"
   ]
  },
  {
   "cell_type": "code",
   "execution_count": null,
   "id": "04f1cad8-51f9-4d7f-9ace-26808fb376c7",
   "metadata": {},
   "outputs": [
    {
     "name": "stderr",
     "output_type": "stream",
     "text": [
      " 73%|███████▎  | 21904/30000 [2:14:42<32:34,  4.14it/s]  IOPub message rate exceeded.\n",
      "The notebook server will temporarily stop sending output\n",
      "to the client in order to avoid crashing it.\n",
      "To change this limit, set the config variable\n",
      "`--NotebookApp.iopub_msg_rate_limit`.\n",
      "\n",
      "Current values:\n",
      "NotebookApp.iopub_msg_rate_limit=1000.0 (msgs/sec)\n",
      "NotebookApp.rate_limit_window=3.0 (secs)\n",
      "\n"
     ]
    }
   ],
   "source": [
    "# 게시글 주소에서 이미지 url 다 가져오기\n",
    "\n",
    "img_url_lst = []\n",
    "with open(f\"{project_name}_board_url_lst.pickle\", \"rb\")as f:\n",
    "    data = pickle.load(f)\n",
    "for i in tqdm(data):\n",
    "    response = requests.get(i) # url 정보 가져오기\n",
    "    html_data = response.text # url 정보중 text만 추출\n",
    "    \n",
    "    soup = BeautifulSoup(html_data, 'html.parser') # html.parser로 나누기\n",
    "    \n",
    "    content_div = soup.find('div', id='powerbbsContent') # html.parser에서 id='powerbbsContent'인 <div>태그 선택\n",
    "    \n",
    "    img_tags = content_div.find_all('img') # 위 태그에서 img 부분만 추출\n",
    "    \n",
    "    for img_tag in img_tags:\n",
    "        src_value = img_tag.get('src') # img src만 추출해서 list에 저장하기\n",
    "        if src_value == None:\n",
    "            continue\n",
    "        img_url_lst.append(src_value)\n",
    "        \n",
    "with open(f\"{project_name}_img_url_lst.pickle\", \"wb\")as f:\n",
    "    pickle.dump(img_url_lst, f)"
   ]
  },
  {
   "cell_type": "code",
   "execution_count": 7,
   "id": "e8ad5dac-37d4-410f-b7d9-5a4d3fcf8cba",
   "metadata": {
    "tags": []
   },
   "outputs": [
    {
     "name": "stderr",
     "output_type": "stream",
     "text": [
      " 44%|████▎     | 14888/34092 [1:54:10<2:33:00,  2.09it/s] IOPub message rate exceeded.\n",
      "The notebook server will temporarily stop sending output\n",
      "to the client in order to avoid crashing it.\n",
      "To change this limit, set the config variable\n",
      "`--NotebookApp.iopub_msg_rate_limit`.\n",
      "\n",
      "Current values:\n",
      "NotebookApp.iopub_msg_rate_limit=1000.0 (msgs/sec)\n",
      "NotebookApp.rate_limit_window=3.0 (secs)\n",
      "\n",
      "100%|██████████| 34092/34092 [2:32:16<00:00,  3.73it/s]"
     ]
    },
    {
     "name": "stdout",
     "output_type": "stream",
     "text": [
      "34086\n"
     ]
    },
    {
     "name": "stderr",
     "output_type": "stream",
     "text": [
      "\n"
     ]
    }
   ],
   "source": [
    "# 이미지 url 저장하기\n",
    "\n",
    "save_dir = os.path.join(os.getcwd(), f\"{project_name}_imgs_src\")\n",
    "os.makedirs(save_dir, exist_ok=True)\n",
    "cnt = 0\n",
    "\n",
    "with open(f\"{project_name}_img_url_lst.pickle\", \"rb\")as f:\n",
    "    data = pickle.load(f)\n",
    "    \n",
    "for img_url in tqdm(data):\n",
    "    # path 설정\n",
    "    ext_name = img_url.split(\"?MW=800\")[0].split(\".\")[-1]\n",
    "    save_img_base_name = str(cnt).zfill(12)\n",
    "    save_img_name = save_img_base_name + \".\" + ext_name\n",
    "    dst_path = os.path.join(save_dir, save_img_name)\n",
    "    if os.path.isfile(dst_path):\n",
    "        continue\n",
    "    \n",
    "    try:\n",
    "        download_file = req.urlretrieve(img_url, dst_path) # url 저장\n",
    "        cnt += 1\n",
    "    except:\n",
    "        continue\n",
    "        \n",
    "print(len(glob(os.path.join(save_dir,\"*\"))))"
   ]
  },
  {
   "cell_type": "code",
   "execution_count": 8,
   "id": "ee18e4fe-f60a-4c65-878f-2c2a72731ce4",
   "metadata": {},
   "outputs": [
    {
     "name": "stderr",
     "output_type": "stream",
     "text": [
      "100%|██████████| 34086/34086 [02:34<00:00, 221.05it/s]\n"
     ]
    },
    {
     "name": "stdout",
     "output_type": "stream",
     "text": [
      "34086\n"
     ]
    }
   ],
   "source": [
    "# 저장 이미지 확장자 변경하기(list에 있는 것들에 대해 모두 실행)\n",
    "\n",
    "# ext_lst = [\"jpg\", \"png\"]\n",
    "ext_lst = [\"jpg\"]\n",
    "\n",
    "imgs = glob(os.path.join(os.getcwd(), f\"{project_name}_imgs_src\", \"*\"))\n",
    "\n",
    "for target_ext in ext_lst:\n",
    "    dir_name = os.path.join(os.getcwd(), f\"{project_name}_imgs_{target_ext}\")\n",
    "    os.makedirs(dir_name, exist_ok=True)\n",
    "\n",
    "    for img in tqdm(imgs):\n",
    "        tmp_lst = os.path.basename(img).split(\".\")\n",
    "        base_name, ext_name = tmp_lst[0], tmp_lst[1]\n",
    "        final_img_name = base_name + f\".{target_ext}\"\n",
    "        dst_path = os.path.join(dir_name, final_img_name)\n",
    "\n",
    "        if os.path.isfile(dst_path):\n",
    "            continue\n",
    "\n",
    "        if ext_name == target_ext:\n",
    "            shutil.copy(img, dst_path)\n",
    "            continue\n",
    "\n",
    "        try:\n",
    "            PIL_img = Image.open(img)\n",
    "            PIL_img = PIL_img.convert(\"RGB\")\n",
    "            PIL_img.save(dst_path)\n",
    "        except:\n",
    "            continue\n",
    "\n",
    "    print(len(glob(os.path.join(dir_name, \"*\"))))"
   ]
  }
 ],
 "metadata": {
  "kernelspec": {
   "display_name": "seunghoon",
   "language": "python",
   "name": "seunghoon"
  },
  "language_info": {
   "codemirror_mode": {
    "name": "ipython",
    "version": 3
   },
   "file_extension": ".py",
   "mimetype": "text/x-python",
   "name": "python",
   "nbconvert_exporter": "python",
   "pygments_lexer": "ipython3",
   "version": "3.8.17"
  }
 },
 "nbformat": 4,
 "nbformat_minor": 5
}
